{
 "cells": [
  {
   "cell_type": "code",
   "execution_count": 5,
   "id": "4f93b12f-ea3d-429e-8d78-9f6d31618d51",
   "metadata": {},
   "outputs": [
    {
     "name": "stdout",
     "output_type": "stream",
     "text": [
      "Requirement already satisfied: numpy in c:\\users\\home\\anaconda3\\lib\\site-packages (1.26.4)\n"
     ]
    }
   ],
   "source": [
    "!pip install numpy"
   ]
  },
  {
   "cell_type": "code",
   "execution_count": 6,
   "id": "d95d218c-38c7-4aad-8e21-cb5e2dea4df5",
   "metadata": {},
   "outputs": [],
   "source": [
    "import numpy as nup"
   ]
  },
  {
   "cell_type": "code",
   "execution_count": 12,
   "id": "9de04716-6cf2-4140-855a-b856a4492074",
   "metadata": {},
   "outputs": [
    {
     "name": "stdout",
     "output_type": "stream",
     "text": [
      "[1 2 3]\n",
      "[[1. 2. 3.]\n",
      " [2. 3. 4.]]\n",
      "[[[2. 3. 4.]\n",
      "  [3. 4. 5.]]\n",
      "\n",
      " [[3. 2. 1.]\n",
      "  [3. 8. 5.]]]\n"
     ]
    }
   ],
   "source": [
    "a= nup.array([1,2,3])\n",
    "b= nup.array([(1,2,3) ,(2,3,4)], dtype = float)\n",
    "c= nup.array([[(2,3,4), (3,4,5)],[(3,2,1),(3,8,5)]], dtype = float)\n",
    "print(a)\n",
    "print(b)\n",
    "print(c)"
   ]
  },
  {
   "cell_type": "code",
   "execution_count": 14,
   "id": "f3b25c12-b160-4e0f-bb5e-22cda752bced",
   "metadata": {},
   "outputs": [
    {
     "data": {
      "text/plain": [
       "array([[0., 0., 0., 0.],\n",
       "       [0., 0., 0., 0.],\n",
       "       [0., 0., 0., 0.],\n",
       "       [0., 0., 0., 0.]])"
      ]
     },
     "execution_count": 14,
     "metadata": {},
     "output_type": "execute_result"
    }
   ],
   "source": [
    "nup.zeros((4,4))"
   ]
  },
  {
   "cell_type": "code",
   "execution_count": 16,
   "id": "174c4329-76ff-4c97-a153-53a8d9bf212f",
   "metadata": {},
   "outputs": [
    {
     "data": {
      "text/plain": [
       "array([[[1., 1., 1., 1.],\n",
       "        [1., 1., 1., 1.],\n",
       "        [1., 1., 1., 1.]],\n",
       "\n",
       "       [[1., 1., 1., 1.],\n",
       "        [1., 1., 1., 1.],\n",
       "        [1., 1., 1., 1.]],\n",
       "\n",
       "       [[1., 1., 1., 1.],\n",
       "        [1., 1., 1., 1.],\n",
       "        [1., 1., 1., 1.]]])"
      ]
     },
     "execution_count": 16,
     "metadata": {},
     "output_type": "execute_result"
    }
   ],
   "source": [
    "nup.ones((3,3,4))"
   ]
  },
  {
   "cell_type": "code",
   "execution_count": 20,
   "id": "89ebca83-666c-4a91-b9a5-54a7dced96c6",
   "metadata": {},
   "outputs": [
    {
     "name": "stdout",
     "output_type": "stream",
     "text": [
      "[ 1  6 11 16 21 26 31 36 41 46]\n"
     ]
    }
   ],
   "source": [
    "data = nup.arange(1,50,5)\n",
    "print(data)"
   ]
  },
  {
   "cell_type": "code",
   "execution_count": 22,
   "id": "5824295a-1a10-47e2-ad44-db5a030404fc",
   "metadata": {},
   "outputs": [
    {
     "data": {
      "text/plain": [
       "array([ 1.  ,  3.25,  5.5 ,  7.75, 10.  ])"
      ]
     },
     "execution_count": 22,
     "metadata": {},
     "output_type": "execute_result"
    }
   ],
   "source": [
    "nup.linspace(1,10,5)"
   ]
  },
  {
   "cell_type": "code",
   "execution_count": 25,
   "id": "776d60c4-1c25-4fd4-9668-45688f107d7c",
   "metadata": {},
   "outputs": [
    {
     "name": "stdout",
     "output_type": "stream",
     "text": [
      "[10 10 10 10 10 10 10 10 10 10]\n",
      "1\n"
     ]
    }
   ],
   "source": [
    "data1 = nup.full((10),10) #1D example\n",
    "print(data1)\n",
    "print(data1.ndim)"
   ]
  },
  {
   "cell_type": "code",
   "execution_count": 27,
   "id": "363adbce-5034-49fa-a5eb-89eb160b134d",
   "metadata": {},
   "outputs": [
    {
     "name": "stdout",
     "output_type": "stream",
     "text": [
      "[[100 100]\n",
      " [100 100]]\n",
      "2\n"
     ]
    }
   ],
   "source": [
    "data2 = nup.full((2,2),100) #2D example\n",
    "print(data2)\n",
    "print(data2.ndim)"
   ]
  },
  {
   "cell_type": "code",
   "execution_count": 29,
   "id": "a4239981-0311-4b32-981f-335d4a9cada3",
   "metadata": {},
   "outputs": [
    {
     "name": "stdout",
     "output_type": "stream",
     "text": [
      "[[[50 50 50]\n",
      "  [50 50 50]\n",
      "  [50 50 50]]\n",
      "\n",
      " [[50 50 50]\n",
      "  [50 50 50]\n",
      "  [50 50 50]]\n",
      "\n",
      " [[50 50 50]\n",
      "  [50 50 50]\n",
      "  [50 50 50]]]\n",
      "3\n"
     ]
    }
   ],
   "source": [
    "data3 = nup.full((3,3,3),50) #3D example\n",
    "print(data3)\n",
    "print(data3.ndim)\n"
   ]
  },
  {
   "cell_type": "code",
   "execution_count": 31,
   "id": "6d5342a0-355c-4d1a-8f2f-3f4940b06b82",
   "metadata": {},
   "outputs": [
    {
     "name": "stdout",
     "output_type": "stream",
     "text": [
      "[[1. 0. 0. 0. 0. 0.]\n",
      " [0. 1. 0. 0. 0. 0.]\n",
      " [0. 0. 1. 0. 0. 0.]\n",
      " [0. 0. 0. 1. 0. 0.]\n",
      " [0. 0. 0. 0. 1. 0.]\n",
      " [0. 0. 0. 0. 0. 1.]]\n"
     ]
    }
   ],
   "source": [
    "d1= nup.eye(6) #Identity matrix example\n",
    "print(d1)"
   ]
  },
  {
   "cell_type": "code",
   "execution_count": 35,
   "id": "3e5a503d-f679-4273-a932-9609c69d619b",
   "metadata": {},
   "outputs": [
    {
     "name": "stdout",
     "output_type": "stream",
     "text": [
      "(3, 3)\n"
     ]
    }
   ],
   "source": [
    "arr = nup.array([[1,2,3],\n",
    "                  [2,3,4],\n",
    "                  [4,5,6]])\n",
    "print(arr.shape)"
   ]
  },
  {
   "cell_type": "code",
   "execution_count": 39,
   "id": "edb16404-56db-4fc2-baf1-6ad8f0651a0c",
   "metadata": {},
   "outputs": [
    {
     "name": "stdout",
     "output_type": "stream",
     "text": [
      "(4, 4)\n",
      "16\n"
     ]
    }
   ],
   "source": [
    "arr = nup.array([[1,2,3,6],\n",
    "                  [2,3,4,6],\n",
    "                  [4,5,6,7],\n",
    "                  [1,2,3,4]])\n",
    "print(arr.shape)\n",
    "print(arr.size)"
   ]
  },
  {
   "cell_type": "code",
   "execution_count": 41,
   "id": "3fb6d25a-eb06-45bc-89ba-6287a77743ef",
   "metadata": {},
   "outputs": [
    {
     "name": "stdout",
     "output_type": "stream",
     "text": [
      "(4, 4)\n",
      "16\n"
     ]
    },
    {
     "data": {
      "text/plain": [
       "4"
      ]
     },
     "execution_count": 41,
     "metadata": {},
     "output_type": "execute_result"
    }
   ],
   "source": [
    "arr = nup.array([[1.8,2.1,3.2,6],\n",
    "                  [2.1,3,4,6],\n",
    "                  [4.2,5,6,7],\n",
    "                  [1,2.3,3,4]])\n",
    "print(arr.shape)\n",
    "print(arr.size)\n",
    "len(arr)"
   ]
  },
  {
   "cell_type": "code",
   "execution_count": null,
   "id": "af9e0473-70cc-48b6-b280-210ae7ff1b69",
   "metadata": {},
   "outputs": [],
   "source": []
  }
 ],
 "metadata": {
  "kernelspec": {
   "display_name": "Python 3 (ipykernel)",
   "language": "python",
   "name": "python3"
  },
  "language_info": {
   "codemirror_mode": {
    "name": "ipython",
    "version": 3
   },
   "file_extension": ".py",
   "mimetype": "text/x-python",
   "name": "python",
   "nbconvert_exporter": "python",
   "pygments_lexer": "ipython3",
   "version": "3.11.7"
  }
 },
 "nbformat": 4,
 "nbformat_minor": 5
}
