{
 "cells": [
  {
   "cell_type": "code",
   "execution_count": 1,
   "id": "91155621-ade2-4647-ba41-511936c70c8d",
   "metadata": {},
   "outputs": [
    {
     "name": "stdout",
     "output_type": "stream",
     "text": [
      "Requirement already satisfied: numpy in c:\\users\\home\\anaconda3\\lib\\site-packages (1.26.4)\n"
     ]
    }
   ],
   "source": [
    "!pip install numpy"
   ]
  },
  {
   "cell_type": "code",
   "execution_count": 3,
   "id": "859e9297-cab4-4aae-81af-e11a98d6fb9d",
   "metadata": {},
   "outputs": [],
   "source": [
    "import numpy as np"
   ]
  },
  {
   "cell_type": "code",
   "execution_count": 14,
   "id": "ff254d52-0917-4b4b-9c0b-722bce289c6b",
   "metadata": {},
   "outputs": [
    {
     "name": "stdout",
     "output_type": "stream",
     "text": [
      "[4 5 6]\n",
      "[4]\n"
     ]
    }
   ],
   "source": [
    "arr = np.array([[1,2,3,4],\n",
    "               [2,3,4,5],\n",
    "               [3,4,5,6]])\n",
    "print(arr[0:3,3])\n",
    "print(arr[2,1:2])"
   ]
  },
  {
   "cell_type": "code",
   "execution_count": 20,
   "id": "c21acb4f-7457-405e-81c3-f5b73e0ec514",
   "metadata": {},
   "outputs": [
    {
     "name": "stdout",
     "output_type": "stream",
     "text": [
      "[20 30 40]\n",
      "[40]\n"
     ]
    }
   ],
   "source": [
    "a = np.array([[10,20,30],\n",
    "               [20,30,40],\n",
    "               [30,40,50]])\n",
    "print(a[0:3,1])\n",
    "print(a[2,1:2])"
   ]
  },
  {
   "cell_type": "code",
   "execution_count": 36,
   "id": "70de5297-9c19-49c2-bc2f-0f3c3fba45a3",
   "metadata": {},
   "outputs": [
    {
     "name": "stdout",
     "output_type": "stream",
     "text": [
      "[0. 0. 0.]\n",
      "[0.]\n",
      "[[1. 0. 0. 0. 0. 0.]\n",
      " [0. 1. 0. 0. 0. 0.]\n",
      " [0. 0. 1. 0. 0. 0.]\n",
      " [0. 0. 0. 1. 0. 0.]\n",
      " [0. 0. 0. 0. 1. 0.]\n",
      " [0. 0. 0. 0. 0. 1.]]\n"
     ]
    }
   ],
   "source": [
    "r = np.eye(6)\n",
    "print(r[0:3,3])\n",
    "print(r[2,1:2])\n",
    "print(r)\n"
   ]
  },
  {
   "cell_type": "code",
   "execution_count": 42,
   "id": "6642777b-7c1c-431a-a094-5368ae7bfe15",
   "metadata": {},
   "outputs": [
    {
     "name": "stdout",
     "output_type": "stream",
     "text": [
      "15\n",
      "-----------------------------------\n",
      "[[ 1  2  3  4  5]\n",
      " [ 6  7  8  9 10]\n",
      " [11 12 13 14 15]]\n",
      "-----------------------------------\n",
      "[[ 1  2  3]\n",
      " [ 4  5  6]\n",
      " [ 7  8  9]\n",
      " [10 11 12]\n",
      " [13 14 15]]\n"
     ]
    }
   ],
   "source": [
    "data1 = np.array([1,2,3,4,5,6,7,8,9,10,11,12,13,14,15])\n",
    "print(data1.size)\n",
    "print(\"-----------------------------------\")\n",
    "newdata = data1.reshape(3,5)\n",
    "newdata1 = data1.reshape(5,3)\n",
    "print(newdata)\n",
    "print(\"-----------------------------------\")\n",
    "print(newdata1)"
   ]
  },
  {
   "cell_type": "code",
   "execution_count": 44,
   "id": "11e3f33c-6119-49cc-86d5-f7bbf271dbb8",
   "metadata": {},
   "outputs": [],
   "source": [
    "x= np.array([[1,2,3],[2,3,4]], dtype=np.float64)\n",
    "y= np.array([[10,20,30],[20,30,40]], dtype=np.float64)"
   ]
  },
  {
   "cell_type": "code",
   "execution_count": 46,
   "id": "928a72f7-9840-488b-afd4-deab8c52ee44",
   "metadata": {},
   "outputs": [
    {
     "name": "stdout",
     "output_type": "stream",
     "text": [
      "[[11. 22. 33.]\n",
      " [22. 33. 44.]]\n",
      "[[11. 22. 33.]\n",
      " [22. 33. 44.]]\n"
     ]
    }
   ],
   "source": [
    "print(x+y)\n",
    "print(np.add(x,y))"
   ]
  },
  {
   "cell_type": "code",
   "execution_count": 48,
   "id": "93120f74-5d5b-4435-ad1d-ac34e6ed4131",
   "metadata": {},
   "outputs": [
    {
     "name": "stdout",
     "output_type": "stream",
     "text": [
      "[[ -9. -18. -27.]\n",
      " [-18. -27. -36.]]\n",
      "[[ -9. -18. -27.]\n",
      " [-18. -27. -36.]]\n"
     ]
    }
   ],
   "source": [
    "print(x-y)\n",
    "print(np.subtract(x,y))"
   ]
  },
  {
   "cell_type": "code",
   "execution_count": 52,
   "id": "895f0d77-971a-4000-a47e-bfee539b19a5",
   "metadata": {},
   "outputs": [
    {
     "name": "stdout",
     "output_type": "stream",
     "text": [
      "[[ 10.  40.  90.]\n",
      " [ 40.  90. 160.]]\n",
      "-----------------\n",
      "[[ 10.  40.  90.]\n",
      " [ 40.  90. 160.]]\n"
     ]
    }
   ],
   "source": [
    "print(x*y)\n",
    "print(\"-----------------\")\n",
    "print(np.multiply(x,y))"
   ]
  },
  {
   "cell_type": "code",
   "execution_count": 54,
   "id": "fa10d80c-febd-4dee-ac25-ecb6711474ec",
   "metadata": {},
   "outputs": [
    {
     "name": "stdout",
     "output_type": "stream",
     "text": [
      "[[0.1 0.1 0.1]\n",
      " [0.1 0.1 0.1]]\n",
      "[[0.1 0.1 0.1]\n",
      " [0.1 0.1 0.1]]\n"
     ]
    }
   ],
   "source": [
    "print(x/y)\n",
    "print(np.divide(x,y))"
   ]
  },
  {
   "cell_type": "code",
   "execution_count": null,
   "id": "c1bac779-ff5e-46b0-88a0-efe3702defbc",
   "metadata": {},
   "outputs": [],
   "source": []
  }
 ],
 "metadata": {
  "kernelspec": {
   "display_name": "Python 3 (ipykernel)",
   "language": "python",
   "name": "python3"
  },
  "language_info": {
   "codemirror_mode": {
    "name": "ipython",
    "version": 3
   },
   "file_extension": ".py",
   "mimetype": "text/x-python",
   "name": "python",
   "nbconvert_exporter": "python",
   "pygments_lexer": "ipython3",
   "version": "3.11.7"
  }
 },
 "nbformat": 4,
 "nbformat_minor": 5
}
